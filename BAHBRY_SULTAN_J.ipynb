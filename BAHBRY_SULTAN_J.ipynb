{
  "nbformat": 4,
  "nbformat_minor": 0,
  "metadata": {
    "colab": {
      "provenance": []
    },
    "kernelspec": {
      "name": "python3",
      "display_name": "Python 3"
    },
    "language_info": {
      "name": "python"
    }
  },
  "cells": [
    {
      "cell_type": "code",
      "execution_count": null,
      "metadata": {
        "id": "RPPhsM2-EkcD"
      },
      "outputs": [],
      "source": [
        "import pandas as pd\n",
        "from mlxtend.frequent_patterns import apriori, association_rules"
      ]
    },
    {
      "cell_type": "code",
      "source": [
        "data = {\n",
        "    'milk': [1, 1, 0, 1],\n",
        "    'Bread': [1, 0, 1, 1],\n",
        "    'Butter': [0, 1, 1, 1],\n",
        "    'Eggs': [1, 1, 0, 1]\n",
        "}"
      ],
      "metadata": {
        "id": "f8dMoUVtE2U-"
      },
      "execution_count": null,
      "outputs": []
    },
    {
      "cell_type": "code",
      "source": [
        "df = pd.DataFrame(data)\n",
        "\n",
        "print(\"Dataset:\")\n",
        "print(df)"
      ],
      "metadata": {
        "colab": {
          "base_uri": "https://localhost:8080/"
        },
        "id": "YVNF-1AhE7nv",
        "outputId": "5db31388-f337-489d-b1bb-fda4907c7dbf"
      },
      "execution_count": null,
      "outputs": [
        {
          "output_type": "stream",
          "name": "stdout",
          "text": [
            "Dataset:\n",
            "   milk  Bread  Butter  Eggs\n",
            "0     1      1       0     1\n",
            "1     1      0       1     1\n",
            "2     0      1       1     0\n",
            "3     1      1       1     1\n"
          ]
        }
      ]
    },
    {
      "cell_type": "code",
      "source": [
        "frequent_itemsets = apriori(df, min_support=0.5, use_colnames=True)\n",
        "\n",
        "print(\"\\nFrequent Itemsets:\")\n",
        "print(frequent_itemsets)"
      ],
      "metadata": {
        "id": "HqtUuZZ0FA-D",
        "outputId": "9faa202a-184f-49cb-cd1a-54194ef76995",
        "colab": {
          "base_uri": "https://localhost:8080/"
        }
      },
      "execution_count": null,
      "outputs": [
        {
          "output_type": "stream",
          "name": "stdout",
          "text": [
            "\n",
            "Frequent Itemsets:\n",
            "    support              itemsets\n",
            "0      0.75                (milk)\n",
            "1      0.75               (Bread)\n",
            "2      0.75              (Butter)\n",
            "3      0.75                (Eggs)\n",
            "4      0.50         (Bread, milk)\n",
            "5      0.50        (Butter, milk)\n",
            "6      0.75          (Eggs, milk)\n",
            "7      0.50       (Bread, Butter)\n",
            "8      0.50         (Eggs, Bread)\n",
            "9      0.50        (Eggs, Butter)\n",
            "10     0.50   (Eggs, Bread, milk)\n",
            "11     0.50  (Eggs, Butter, milk)\n"
          ]
        },
        {
          "output_type": "stream",
          "name": "stderr",
          "text": [
            "/usr/local/lib/python3.11/dist-packages/mlxtend/frequent_patterns/fpcommon.py:161: DeprecationWarning: DataFrames with non-bool types result in worse computationalperformance and their support might be discontinued in the future.Please use a DataFrame with bool type\n",
            "  warnings.warn(\n"
          ]
        }
      ]
    }
  ]
}